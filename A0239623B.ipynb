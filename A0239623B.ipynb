{
 "cells": [
  {
   "cell_type": "markdown",
   "metadata": {},
   "source": []
  },
  {
   "cell_type": "code",
   "execution_count": 8,
   "metadata": {},
   "outputs": [],
   "source": [
    "import pandas as pd\n",
    "import numpy as np"
   ]
  },
  {
   "cell_type": "markdown",
   "metadata": {},
   "source": [
    "# Reading Data "
   ]
  },
  {
   "cell_type": "code",
   "execution_count": 9,
   "metadata": {},
   "outputs": [],
   "source": [
    "train = pd.read_csv(\"Assignment2_train.csv\")\n",
    "test = pd.read_csv(\"Assignment2_test.csv\")"
   ]
  },
  {
   "cell_type": "code",
   "execution_count": 10,
   "metadata": {},
   "outputs": [
    {
     "data": {
      "text/html": [
       "<div>\n",
       "<style scoped>\n",
       "    .dataframe tbody tr th:only-of-type {\n",
       "        vertical-align: middle;\n",
       "    }\n",
       "\n",
       "    .dataframe tbody tr th {\n",
       "        vertical-align: top;\n",
       "    }\n",
       "\n",
       "    .dataframe thead th {\n",
       "        text-align: right;\n",
       "    }\n",
       "</style>\n",
       "<table border=\"1\" class=\"dataframe\">\n",
       "  <thead>\n",
       "    <tr style=\"text-align: right;\">\n",
       "      <th></th>\n",
       "      <th>index</th>\n",
       "      <th>age</th>\n",
       "      <th>race</th>\n",
       "      <th>sex</th>\n",
       "      <th>education</th>\n",
       "      <th>f1</th>\n",
       "      <th>f2</th>\n",
       "      <th>f3</th>\n",
       "      <th>f4</th>\n",
       "      <th>f5</th>\n",
       "      <th>f6</th>\n",
       "      <th>f7</th>\n",
       "      <th>f8</th>\n",
       "      <th>f9</th>\n",
       "      <th>f10</th>\n",
       "      <th>y</th>\n",
       "    </tr>\n",
       "  </thead>\n",
       "  <tbody>\n",
       "    <tr>\n",
       "      <th>0</th>\n",
       "      <td>1</td>\n",
       "      <td>26</td>\n",
       "      <td>White</td>\n",
       "      <td>Male</td>\n",
       "      <td>Some-college</td>\n",
       "      <td>a_2</td>\n",
       "      <td>b_4</td>\n",
       "      <td>c_0</td>\n",
       "      <td>d_39</td>\n",
       "      <td>e_4</td>\n",
       "      <td>53833</td>\n",
       "      <td>10</td>\n",
       "      <td>0</td>\n",
       "      <td>0</td>\n",
       "      <td>42</td>\n",
       "      <td>0</td>\n",
       "    </tr>\n",
       "    <tr>\n",
       "      <th>1</th>\n",
       "      <td>2</td>\n",
       "      <td>35</td>\n",
       "      <td>White</td>\n",
       "      <td>Male</td>\n",
       "      <td>Some-college</td>\n",
       "      <td>a_2</td>\n",
       "      <td>b_3</td>\n",
       "      <td>c_0</td>\n",
       "      <td>d_39</td>\n",
       "      <td>e_4</td>\n",
       "      <td>67728</td>\n",
       "      <td>10</td>\n",
       "      <td>0</td>\n",
       "      <td>2051</td>\n",
       "      <td>45</td>\n",
       "      <td>0</td>\n",
       "    </tr>\n",
       "    <tr>\n",
       "      <th>2</th>\n",
       "      <td>3</td>\n",
       "      <td>61</td>\n",
       "      <td>White</td>\n",
       "      <td>Male</td>\n",
       "      <td>HS-grad</td>\n",
       "      <td>a_2</td>\n",
       "      <td>b_12</td>\n",
       "      <td>c_0</td>\n",
       "      <td>d_39</td>\n",
       "      <td>e_6</td>\n",
       "      <td>268831</td>\n",
       "      <td>9</td>\n",
       "      <td>0</td>\n",
       "      <td>0</td>\n",
       "      <td>53</td>\n",
       "      <td>0</td>\n",
       "    </tr>\n",
       "    <tr>\n",
       "      <th>3</th>\n",
       "      <td>4</td>\n",
       "      <td>48</td>\n",
       "      <td>Asian-Pac-Islander</td>\n",
       "      <td>Female</td>\n",
       "      <td>Bachelors</td>\n",
       "      <td>a_5</td>\n",
       "      <td>b_1</td>\n",
       "      <td>c_4</td>\n",
       "      <td>d_30</td>\n",
       "      <td>e_4</td>\n",
       "      <td>238360</td>\n",
       "      <td>13</td>\n",
       "      <td>0</td>\n",
       "      <td>0</td>\n",
       "      <td>40</td>\n",
       "      <td>0</td>\n",
       "    </tr>\n",
       "    <tr>\n",
       "      <th>4</th>\n",
       "      <td>5</td>\n",
       "      <td>20</td>\n",
       "      <td>White</td>\n",
       "      <td>Male</td>\n",
       "      <td>Some-college</td>\n",
       "      <td>a_4</td>\n",
       "      <td>b_6</td>\n",
       "      <td>c_3</td>\n",
       "      <td>d_39</td>\n",
       "      <td>e_4</td>\n",
       "      <td>199011</td>\n",
       "      <td>10</td>\n",
       "      <td>0</td>\n",
       "      <td>0</td>\n",
       "      <td>12</td>\n",
       "      <td>0</td>\n",
       "    </tr>\n",
       "  </tbody>\n",
       "</table>\n",
       "</div>"
      ],
      "text/plain": [
       "   index  age                 race      sex      education   f1    f2   f3  \\\n",
       "0      1   26                White     Male   Some-college  a_2   b_4  c_0   \n",
       "1      2   35                White     Male   Some-college  a_2   b_3  c_0   \n",
       "2      3   61                White     Male        HS-grad  a_2  b_12  c_0   \n",
       "3      4   48   Asian-Pac-Islander   Female      Bachelors  a_5   b_1  c_4   \n",
       "4      5   20                White     Male   Some-college  a_4   b_6  c_3   \n",
       "\n",
       "     f4   f5      f6  f7  f8    f9  f10  y  \n",
       "0  d_39  e_4   53833  10   0     0   42  0  \n",
       "1  d_39  e_4   67728  10   0  2051   45  0  \n",
       "2  d_39  e_6  268831   9   0     0   53  0  \n",
       "3  d_30  e_4  238360  13   0     0   40  0  \n",
       "4  d_39  e_4  199011  10   0     0   12  0  "
      ]
     },
     "execution_count": 10,
     "metadata": {},
     "output_type": "execute_result"
    }
   ],
   "source": [
    "train.head()"
   ]
  },
  {
   "cell_type": "code",
   "execution_count": 11,
   "metadata": {},
   "outputs": [],
   "source": [
    "# drop index column \n",
    "train = train.drop(columns=[\"index\"])"
   ]
  },
  {
   "cell_type": "code",
   "execution_count": 12,
   "metadata": {},
   "outputs": [
    {
     "data": {
      "text/html": [
       "<div>\n",
       "<style scoped>\n",
       "    .dataframe tbody tr th:only-of-type {\n",
       "        vertical-align: middle;\n",
       "    }\n",
       "\n",
       "    .dataframe tbody tr th {\n",
       "        vertical-align: top;\n",
       "    }\n",
       "\n",
       "    .dataframe thead th {\n",
       "        text-align: right;\n",
       "    }\n",
       "</style>\n",
       "<table border=\"1\" class=\"dataframe\">\n",
       "  <thead>\n",
       "    <tr style=\"text-align: right;\">\n",
       "      <th></th>\n",
       "      <th>age</th>\n",
       "      <th>race</th>\n",
       "      <th>sex</th>\n",
       "      <th>education</th>\n",
       "      <th>f1</th>\n",
       "      <th>f2</th>\n",
       "      <th>f3</th>\n",
       "      <th>f4</th>\n",
       "      <th>f5</th>\n",
       "      <th>f6</th>\n",
       "      <th>f7</th>\n",
       "      <th>f8</th>\n",
       "      <th>f9</th>\n",
       "      <th>f10</th>\n",
       "      <th>y</th>\n",
       "    </tr>\n",
       "  </thead>\n",
       "  <tbody>\n",
       "    <tr>\n",
       "      <th>0</th>\n",
       "      <td>26</td>\n",
       "      <td>White</td>\n",
       "      <td>Male</td>\n",
       "      <td>Some-college</td>\n",
       "      <td>a_2</td>\n",
       "      <td>b_4</td>\n",
       "      <td>c_0</td>\n",
       "      <td>d_39</td>\n",
       "      <td>e_4</td>\n",
       "      <td>53833</td>\n",
       "      <td>10</td>\n",
       "      <td>0</td>\n",
       "      <td>0</td>\n",
       "      <td>42</td>\n",
       "      <td>0</td>\n",
       "    </tr>\n",
       "    <tr>\n",
       "      <th>1</th>\n",
       "      <td>35</td>\n",
       "      <td>White</td>\n",
       "      <td>Male</td>\n",
       "      <td>Some-college</td>\n",
       "      <td>a_2</td>\n",
       "      <td>b_3</td>\n",
       "      <td>c_0</td>\n",
       "      <td>d_39</td>\n",
       "      <td>e_4</td>\n",
       "      <td>67728</td>\n",
       "      <td>10</td>\n",
       "      <td>0</td>\n",
       "      <td>2051</td>\n",
       "      <td>45</td>\n",
       "      <td>0</td>\n",
       "    </tr>\n",
       "    <tr>\n",
       "      <th>2</th>\n",
       "      <td>61</td>\n",
       "      <td>White</td>\n",
       "      <td>Male</td>\n",
       "      <td>HS-grad</td>\n",
       "      <td>a_2</td>\n",
       "      <td>b_12</td>\n",
       "      <td>c_0</td>\n",
       "      <td>d_39</td>\n",
       "      <td>e_6</td>\n",
       "      <td>268831</td>\n",
       "      <td>9</td>\n",
       "      <td>0</td>\n",
       "      <td>0</td>\n",
       "      <td>53</td>\n",
       "      <td>0</td>\n",
       "    </tr>\n",
       "    <tr>\n",
       "      <th>3</th>\n",
       "      <td>48</td>\n",
       "      <td>Asian-Pac-Islander</td>\n",
       "      <td>Female</td>\n",
       "      <td>Bachelors</td>\n",
       "      <td>a_5</td>\n",
       "      <td>b_1</td>\n",
       "      <td>c_4</td>\n",
       "      <td>d_30</td>\n",
       "      <td>e_4</td>\n",
       "      <td>238360</td>\n",
       "      <td>13</td>\n",
       "      <td>0</td>\n",
       "      <td>0</td>\n",
       "      <td>40</td>\n",
       "      <td>0</td>\n",
       "    </tr>\n",
       "    <tr>\n",
       "      <th>4</th>\n",
       "      <td>20</td>\n",
       "      <td>White</td>\n",
       "      <td>Male</td>\n",
       "      <td>Some-college</td>\n",
       "      <td>a_4</td>\n",
       "      <td>b_6</td>\n",
       "      <td>c_3</td>\n",
       "      <td>d_39</td>\n",
       "      <td>e_4</td>\n",
       "      <td>199011</td>\n",
       "      <td>10</td>\n",
       "      <td>0</td>\n",
       "      <td>0</td>\n",
       "      <td>12</td>\n",
       "      <td>0</td>\n",
       "    </tr>\n",
       "  </tbody>\n",
       "</table>\n",
       "</div>"
      ],
      "text/plain": [
       "   age                 race      sex      education   f1    f2   f3    f4  \\\n",
       "0   26                White     Male   Some-college  a_2   b_4  c_0  d_39   \n",
       "1   35                White     Male   Some-college  a_2   b_3  c_0  d_39   \n",
       "2   61                White     Male        HS-grad  a_2  b_12  c_0  d_39   \n",
       "3   48   Asian-Pac-Islander   Female      Bachelors  a_5   b_1  c_4  d_30   \n",
       "4   20                White     Male   Some-college  a_4   b_6  c_3  d_39   \n",
       "\n",
       "    f5      f6  f7  f8    f9  f10  y  \n",
       "0  e_4   53833  10   0     0   42  0  \n",
       "1  e_4   67728  10   0  2051   45  0  \n",
       "2  e_6  268831   9   0     0   53  0  \n",
       "3  e_4  238360  13   0     0   40  0  \n",
       "4  e_4  199011  10   0     0   12  0  "
      ]
     },
     "execution_count": 12,
     "metadata": {},
     "output_type": "execute_result"
    }
   ],
   "source": [
    "train.head()"
   ]
  },
  {
   "cell_type": "markdown",
   "metadata": {},
   "source": [
    "Import Label Encoder - To turn categorical variables into numericals"
   ]
  },
  {
   "cell_type": "code",
   "execution_count": 13,
   "metadata": {},
   "outputs": [],
   "source": [
    "from sklearn import preprocessing"
   ]
  },
  {
   "cell_type": "code",
   "execution_count": 14,
   "metadata": {},
   "outputs": [],
   "source": [
    "label_encoder = preprocessing.LabelEncoder()"
   ]
  },
  {
   "cell_type": "code",
   "execution_count": 15,
   "metadata": {},
   "outputs": [],
   "source": [
    "cat_cols = ['race','sex','education','f1','f2','f3','f4','f5']\n",
    "train[cat_cols] = train[cat_cols].apply(label_encoder.fit_transform)\n"
   ]
  },
  {
   "cell_type": "code",
   "execution_count": 16,
   "metadata": {},
   "outputs": [
    {
     "data": {
      "text/html": [
       "<div>\n",
       "<style scoped>\n",
       "    .dataframe tbody tr th:only-of-type {\n",
       "        vertical-align: middle;\n",
       "    }\n",
       "\n",
       "    .dataframe tbody tr th {\n",
       "        vertical-align: top;\n",
       "    }\n",
       "\n",
       "    .dataframe thead th {\n",
       "        text-align: right;\n",
       "    }\n",
       "</style>\n",
       "<table border=\"1\" class=\"dataframe\">\n",
       "  <thead>\n",
       "    <tr style=\"text-align: right;\">\n",
       "      <th></th>\n",
       "      <th>age</th>\n",
       "      <th>race</th>\n",
       "      <th>sex</th>\n",
       "      <th>education</th>\n",
       "      <th>f1</th>\n",
       "      <th>f2</th>\n",
       "      <th>f3</th>\n",
       "      <th>f4</th>\n",
       "      <th>f5</th>\n",
       "      <th>f6</th>\n",
       "      <th>f7</th>\n",
       "      <th>f8</th>\n",
       "      <th>f9</th>\n",
       "      <th>f10</th>\n",
       "      <th>y</th>\n",
       "    </tr>\n",
       "  </thead>\n",
       "  <tbody>\n",
       "    <tr>\n",
       "      <th>0</th>\n",
       "      <td>26</td>\n",
       "      <td>4</td>\n",
       "      <td>1</td>\n",
       "      <td>15</td>\n",
       "      <td>2</td>\n",
       "      <td>9</td>\n",
       "      <td>0</td>\n",
       "      <td>32</td>\n",
       "      <td>4</td>\n",
       "      <td>53833</td>\n",
       "      <td>10</td>\n",
       "      <td>0</td>\n",
       "      <td>0</td>\n",
       "      <td>42</td>\n",
       "      <td>0</td>\n",
       "    </tr>\n",
       "    <tr>\n",
       "      <th>1</th>\n",
       "      <td>35</td>\n",
       "      <td>4</td>\n",
       "      <td>1</td>\n",
       "      <td>15</td>\n",
       "      <td>2</td>\n",
       "      <td>8</td>\n",
       "      <td>0</td>\n",
       "      <td>32</td>\n",
       "      <td>4</td>\n",
       "      <td>67728</td>\n",
       "      <td>10</td>\n",
       "      <td>0</td>\n",
       "      <td>2051</td>\n",
       "      <td>45</td>\n",
       "      <td>0</td>\n",
       "    </tr>\n",
       "    <tr>\n",
       "      <th>2</th>\n",
       "      <td>61</td>\n",
       "      <td>4</td>\n",
       "      <td>1</td>\n",
       "      <td>11</td>\n",
       "      <td>2</td>\n",
       "      <td>4</td>\n",
       "      <td>0</td>\n",
       "      <td>32</td>\n",
       "      <td>6</td>\n",
       "      <td>268831</td>\n",
       "      <td>9</td>\n",
       "      <td>0</td>\n",
       "      <td>0</td>\n",
       "      <td>53</td>\n",
       "      <td>0</td>\n",
       "    </tr>\n",
       "    <tr>\n",
       "      <th>3</th>\n",
       "      <td>48</td>\n",
       "      <td>1</td>\n",
       "      <td>0</td>\n",
       "      <td>9</td>\n",
       "      <td>5</td>\n",
       "      <td>1</td>\n",
       "      <td>4</td>\n",
       "      <td>23</td>\n",
       "      <td>4</td>\n",
       "      <td>238360</td>\n",
       "      <td>13</td>\n",
       "      <td>0</td>\n",
       "      <td>0</td>\n",
       "      <td>40</td>\n",
       "      <td>0</td>\n",
       "    </tr>\n",
       "    <tr>\n",
       "      <th>4</th>\n",
       "      <td>20</td>\n",
       "      <td>4</td>\n",
       "      <td>1</td>\n",
       "      <td>15</td>\n",
       "      <td>4</td>\n",
       "      <td>11</td>\n",
       "      <td>3</td>\n",
       "      <td>32</td>\n",
       "      <td>4</td>\n",
       "      <td>199011</td>\n",
       "      <td>10</td>\n",
       "      <td>0</td>\n",
       "      <td>0</td>\n",
       "      <td>12</td>\n",
       "      <td>0</td>\n",
       "    </tr>\n",
       "  </tbody>\n",
       "</table>\n",
       "</div>"
      ],
      "text/plain": [
       "   age  race  sex  education  f1  f2  f3  f4  f5      f6  f7  f8    f9  f10  y\n",
       "0   26     4    1         15   2   9   0  32   4   53833  10   0     0   42  0\n",
       "1   35     4    1         15   2   8   0  32   4   67728  10   0  2051   45  0\n",
       "2   61     4    1         11   2   4   0  32   6  268831   9   0     0   53  0\n",
       "3   48     1    0          9   5   1   4  23   4  238360  13   0     0   40  0\n",
       "4   20     4    1         15   4  11   3  32   4  199011  10   0     0   12  0"
      ]
     },
     "execution_count": 16,
     "metadata": {},
     "output_type": "execute_result"
    }
   ],
   "source": [
    "train.head()"
   ]
  },
  {
   "cell_type": "code",
   "execution_count": 17,
   "metadata": {},
   "outputs": [],
   "source": [
    "# target data \n",
    "y = train['y']\n",
    "\n",
    "# features \n",
    "x = train.iloc[:,:-1]\n",
    "\n"
   ]
  },
  {
   "cell_type": "code",
   "execution_count": 18,
   "metadata": {},
   "outputs": [
    {
     "data": {
      "text/plain": [
       "age          0\n",
       "race         0\n",
       "sex          0\n",
       "education    0\n",
       "f1           0\n",
       "f2           0\n",
       "f3           0\n",
       "f4           0\n",
       "f5           0\n",
       "f6           0\n",
       "f7           0\n",
       "f8           0\n",
       "f9           0\n",
       "f10          0\n",
       "dtype: int64"
      ]
     },
     "execution_count": 18,
     "metadata": {},
     "output_type": "execute_result"
    }
   ],
   "source": [
    "# check for null values \n",
    "x.isnull().sum()\n",
    "# do not have missing values "
   ]
  },
  {
   "cell_type": "code",
   "execution_count": 19,
   "metadata": {},
   "outputs": [],
   "source": [
    "from sklearn.model_selection import train_test_split\n",
    "# split dataset into training set and validation set\n",
    "x_train, x_val, y_train, y_val = train_test_split(x, y, test_size=0.3, random_state=23)"
   ]
  },
  {
   "cell_type": "code",
   "execution_count": 16,
   "metadata": {},
   "outputs": [],
   "source": [
    "from sklearn import metrics\n",
    "from sklearn.metrics import classification_report\n"
   ]
  },
  {
   "cell_type": "code",
   "execution_count": 17,
   "metadata": {},
   "outputs": [],
   "source": [
    "# function to print out model's classification results \n",
    "def get_model_results(classifier, model, x_train, y_train, x_test, y_test):\n",
    "    # fit the model with data \n",
    "    model.fit(x_train,y_train)\n",
    "    y_pred = model.predict(x_test)\n",
    "    print(\"Results for \"+ classifier)\n",
    "    print(\"Accuracy:\", metrics.accuracy_score(y_test,y_pred))\n",
    "    print(\"Recall:\", metrics.recall_score(y_test,y_pred))\n",
    "    print(\"Precision:\", metrics.precision_score(y_test,y_pred))\n",
    "    print(\"F1 Score:\", metrics.f1_score(y_test,y_pred))\n",
    "\n",
    "    # confusion matrix \n",
    "    cfn_matrix = metrics.confusion_matrix(y_test,y_pred,labels=[1,0])\n",
    "    print(\"\\nConfusion Matrix:\\n\")\n",
    "    print(cfn_matrix)\n",
    "\n",
    "    # Classification Report \n",
    "    print(\"\\nClassification Report:\\n\")\n",
    "\n",
    "    print(classification_report(y_test, y_pred))\n"
   ]
  },
  {
   "cell_type": "markdown",
   "metadata": {},
   "source": [
    "# Logistic Regression "
   ]
  },
  {
   "cell_type": "code",
   "execution_count": 18,
   "metadata": {},
   "outputs": [],
   "source": [
    "\n",
    "from sklearn.linear_model import LogisticRegression\n"
   ]
  },
  {
   "cell_type": "code",
   "execution_count": 19,
   "metadata": {},
   "outputs": [],
   "source": [
    "# instantiate log reg model\n",
    "log_model = LogisticRegression(random_state=101)"
   ]
  },
  {
   "cell_type": "code",
   "execution_count": 20,
   "metadata": {},
   "outputs": [
    {
     "name": "stdout",
     "output_type": "stream",
     "text": [
      "Results for Logistic Regression\n",
      "Accuracy: 0.7920692684151085\n",
      "Recall: 0.3037974683544304\n",
      "Precision: 0.6308871851040526\n",
      "F1 Score: 0.41011035955856184\n",
      "\n",
      "Confusion Matrix:\n",
      "\n",
      "[[ 576 1320]\n",
      " [ 337 5736]]\n",
      "\n",
      "Classification Report:\n",
      "\n",
      "              precision    recall  f1-score   support\n",
      "\n",
      "           0       0.81      0.94      0.87      6073\n",
      "           1       0.63      0.30      0.41      1896\n",
      "\n",
      "    accuracy                           0.79      7969\n",
      "   macro avg       0.72      0.62      0.64      7969\n",
      "weighted avg       0.77      0.79      0.76      7969\n",
      "\n"
     ]
    }
   ],
   "source": [
    "\n",
    "get_model_results(\"Logistic Regression\", log_model, x_train, y_train, x_val, y_val )\n"
   ]
  },
  {
   "cell_type": "code",
   "execution_count": 21,
   "metadata": {},
   "outputs": [
    {
     "data": {
      "image/png": "[encoded data removed]",
      "text/plain": [
       "<Figure size 640x480 with 1 Axes>"
      ]
     },
     "metadata": {},
     "output_type": "display_data"
    }
   ],
   "source": [
    "#plot roc curve \n",
    "import matplotlib.pyplot as plt \n",
    "# predicted probabilities of class 1 \n",
    "y_pred_prob_logmodel = log_model.predict_proba(x_val)[:,1]\n",
    "fpr, tpr, _ = metrics.roc_curve(y_val, y_pred_prob_logmodel)\n",
    "auc = metrics.roc_auc_score(y_val, y_pred_prob_logmodel)\n",
    "plt.plot(fpr,tpr,label=\"LogReg_Model, auc =\"+str(\"{:.3f}\".format(auc)))\n",
    "plt.legend(loc=4)\n",
    "plt.show()\n"
   ]
  },
  {
   "cell_type": "code",
   "execution_count": 32,
   "metadata": {},
   "outputs": [
    {
     "name": "stdout",
     "output_type": "stream",
     "text": [
      "Number of Y Outcome = 0: 20194\n",
      "Number of Y Outcome = 1: 6367\n",
      "Percentage of Y Outcome = 0: 76.0287639772599 %\n",
      "Percentage of Y Outcome = 1: 23.971236022740108 %\n"
     ]
    }
   ],
   "source": [
    "num_0 = (train['y'] == 0).sum()\n",
    "num_1 = (train['y'] == 1).sum() \n",
    "total = num_0 + num_1\n",
    "\n",
    "print(\"Number of Y Outcome = 0:\" , num_0)\n",
    "print(\"Number of Y Outcome = 1:\", num_1)\n",
    "\n",
    "print(\"Percentage of Y Outcome = 0:\" , num_0/total * 100, \"%\")\n",
    "print(\"Percentage of Y Outcome = 1:\", num_1/total * 100, \"%\")\n"
   ]
  },
  {
   "cell_type": "markdown",
   "metadata": {},
   "source": [
    "As seen above, the dataset is not balanced, where the number of Y variables = 0 makes up 76% of the total outcome variables, while that for Y is only 24%. Thus, there is a bias towards the outcome variable 0. Thus, it is essential to balance the dataset to make training the model easier as it helps prevent bias towards a particular outcome variable. "
   ]
  },
  {
   "cell_type": "markdown",
   "metadata": {},
   "source": [
    "Balancing the data"
   ]
  },
  {
   "cell_type": "code",
   "execution_count": 22,
   "metadata": {},
   "outputs": [
    {
     "name": "stdout",
     "output_type": "stream",
     "text": [
      "<pandas.core.groupby.generic.DataFrameGroupBy object at 0x13111a3d0>\n"
     ]
    }
   ],
   "source": [
    "# group by the y variable \n",
    "group_y = train.groupby('y')\n",
    "print(group_y)\n",
    "bal_data = group_y.apply(lambda x:x.sample(group_y.size().min()).reset_index(drop=True))\n",
    "bx_train, bx_val, by_train, by_val = train_test_split(bal_data.iloc[:,:-1],bal_data['y'], test_size=0.3, random_state=23)"
   ]
  },
  {
   "cell_type": "code",
   "execution_count": 23,
   "metadata": {},
   "outputs": [
    {
     "name": "stdout",
     "output_type": "stream",
     "text": [
      "Results for Logistic Regression (Balanced)\n",
      "Accuracy: 0.6835906830672599\n",
      "Recall: 0.6437632135306554\n",
      "Precision: 0.6948088990302339\n",
      "F1 Score: 0.6683127572016462\n",
      "\n",
      "Confusion Matrix:\n",
      "\n",
      "[[1218  674]\n",
      " [ 535 1394]]\n",
      "\n",
      "Classification Report:\n",
      "\n",
      "              precision    recall  f1-score   support\n",
      "\n",
      "           0       0.67      0.72      0.70      1929\n",
      "           1       0.69      0.64      0.67      1892\n",
      "\n",
      "    accuracy                           0.68      3821\n",
      "   macro avg       0.68      0.68      0.68      3821\n",
      "weighted avg       0.68      0.68      0.68      3821\n",
      "\n"
     ]
    },
    {
     "name": "stderr",
     "output_type": "stream",
     "text": [
      "/Users/admin/opt/anaconda3/envs/ipykernel_py3/lib/python3.11/site-packages/sklearn/linear_model/_logistic.py:458: ConvergenceWarning: lbfgs failed to converge (status=1):\n",
      "STOP: TOTAL NO. of ITERATIONS REACHED LIMIT.\n",
      "\n",
      "Increase the number of iterations (max_iter) or scale the data as shown in:\n",
      "    https://scikit-learn.org/stable/modules/preprocessing.html\n",
      "Please also refer to the documentation for alternative solver options:\n",
      "    https://scikit-learn.org/stable/modules/linear_model.html#logistic-regression\n",
      "  n_iter_i = _check_optimize_result(\n"
     ]
    }
   ],
   "source": [
    "get_model_results(\"Logistic Regression (Balanced)\", log_model, bx_train,by_train,bx_val,by_val  )\n"
   ]
  },
  {
   "cell_type": "markdown",
   "metadata": {},
   "source": [
    "Grid Search to get the best parameters \n"
   ]
  },
  {
   "cell_type": "code",
   "execution_count": null,
   "metadata": {},
   "outputs": [],
   "source": [
    "from sklearn.model_selection import GridSearchCV\n",
    "\n",
    "grid_params = {\n",
    "    'penalty': ['l1', 'l2', 'elasticnet', 'none'],\n",
    "    'C': np.logspace(-4,4,20),\n",
    "    'solver': ['lbfgs', 'liblinear', 'newton-cg', 'newton-cholesky', 'sag', 'saga'],\n",
    "    'max_iter': [90,100]\n",
    "}\n",
    "\n",
    "gridCV = GridSearchCV(log_model, param_grid=grid_params, verbose=False)\n",
    "gridCV.fit(bx_train,by_train)"
   ]
  },
  {
   "cell_type": "code",
   "execution_count": null,
   "metadata": {},
   "outputs": [
    {
     "name": "stdout",
     "output_type": "stream",
     "text": [
      "{'C': 0.23357214690901212, 'max_iter': 90, 'penalty': 'l1', 'solver': 'liblinear'}\n"
     ]
    }
   ],
   "source": [
    "print(gridCV.best_params_)"
   ]
  },
  {
   "cell_type": "code",
   "execution_count": null,
   "metadata": {},
   "outputs": [],
   "source": [
    "good_log_model = LogisticRegression(C=0.23357214690901212, max_iter = 90, penalty='l1', solver = \"liblinear\", random_state=101)"
   ]
  },
  {
   "cell_type": "code",
   "execution_count": null,
   "metadata": {},
   "outputs": [
    {
     "name": "stdout",
     "output_type": "stream",
     "text": [
      "Results for Logistic Regression (HyperTuned)\n",
      "Accuracy: 0.7639361423711071\n",
      "Recall: 0.7679704016913319\n",
      "Precision: 0.7583507306889353\n",
      "F1 Score: 0.7631302521008403\n",
      "\n",
      "Confusion Matrix:\n",
      "\n",
      "[[1453  439]\n",
      " [ 463 1466]]\n",
      "\n",
      "Classification Report:\n",
      "\n",
      "              precision    recall  f1-score   support\n",
      "\n",
      "           0       0.77      0.76      0.76      1929\n",
      "           1       0.76      0.77      0.76      1892\n",
      "\n",
      "    accuracy                           0.76      3821\n",
      "   macro avg       0.76      0.76      0.76      3821\n",
      "weighted avg       0.76      0.76      0.76      3821\n",
      "\n"
     ]
    }
   ],
   "source": [
    "\n",
    "get_model_results(\"Logistic Regression (HyperTuned)\",good_log_model, bx_train,by_train,bx_val,by_val )\n"
   ]
  },
  {
   "cell_type": "code",
   "execution_count": null,
   "metadata": {},
   "outputs": [
    {
     "data": {
      "image/png": "[encoded data removed]",
      "text/plain": [
       "<Figure size 640x480 with 1 Axes>"
      ]
     },
     "metadata": {},
     "output_type": "display_data"
    }
   ],
   "source": [
    "#plot roc curve \n",
    "import matplotlib.pyplot as plt \n",
    "# predicted probabilities of class 1 \n",
    "by_pred_prob_goodlogmodel = good_log_model.predict_proba(bx_val)[:,1]\n",
    "fpr, tpr, _ = metrics.roc_curve(by_val, by_pred_prob_goodlogmodel)\n",
    "auc = metrics.roc_auc_score(by_val, by_pred_prob_goodlogmodel)\n",
    "plt.plot(fpr,tpr,label=\"LogReg_Model, auc =\"+str(\"{:.3f}\".format(auc)))\n",
    "plt.legend(loc=4)\n",
    "plt.show()\n"
   ]
  },
  {
   "cell_type": "markdown",
   "metadata": {},
   "source": [
    "# Support Vector Machine "
   ]
  },
  {
   "cell_type": "code",
   "execution_count": 36,
   "metadata": {},
   "outputs": [],
   "source": [
    "from sklearn import svm "
   ]
  },
  {
   "cell_type": "code",
   "execution_count": 54,
   "metadata": {},
   "outputs": [],
   "source": [
    "\n",
    "# create svm Classifier with basic linear kernel \n",
    "linearSVM = svm.SVC(kernel=\"linear\",probability=True)"
   ]
  },
  {
   "cell_type": "code",
   "execution_count": 56,
   "metadata": {},
   "outputs": [
    {
     "name": "stdout",
     "output_type": "stream",
     "text": [
      "Results for Linear SVM\n",
      "Accuracy: 0.7126406699816802\n",
      "Recall: 0.653276955602537\n",
      "Precision: 0.7365911799761621\n",
      "F1 Score: 0.692436974789916\n",
      "\n",
      "Confusion Matrix:\n",
      "\n",
      "[[1236  656]\n",
      " [ 442 1487]]\n",
      "\n",
      "Classification Report:\n",
      "\n",
      "              precision    recall  f1-score   support\n",
      "\n",
      "           0       0.69      0.77      0.73      1929\n",
      "           1       0.74      0.65      0.69      1892\n",
      "\n",
      "    accuracy                           0.71      3821\n",
      "   macro avg       0.72      0.71      0.71      3821\n",
      "weighted avg       0.72      0.71      0.71      3821\n",
      "\n"
     ]
    }
   ],
   "source": [
    "\n",
    "get_model_results(\"Linear SVM\", linearSVM, bx_train, by_train, bx_val,by_val)\n"
   ]
  },
  {
   "cell_type": "code",
   "execution_count": 58,
   "metadata": {},
   "outputs": [
    {
     "data": {
      "image/png": "[encoded data removed]",
      "text/plain": [
       "<Figure size 640x480 with 1 Axes>"
      ]
     },
     "metadata": {},
     "output_type": "display_data"
    }
   ],
   "source": [
    "#plot roc curve \n",
    "import matplotlib.pyplot as plt \n",
    "# predicted probabilities of class 1 \n",
    "by_pred_prob_goodlogmodel = linearSVM.predict_proba(bx_val)[:,1]\n",
    "fpr, tpr, _ = metrics.roc_curve(by_val, by_pred_prob_goodlogmodel)\n",
    "auc = metrics.roc_auc_score(by_val, by_pred_prob_goodlogmodel)\n",
    "plt.plot(fpr,tpr,label=\"LinearSVM_Model, auc =\"+str(\"{:.3f}\".format(auc)))\n",
    "plt.legend(loc=4)\n",
    "plt.show()\n"
   ]
  },
  {
   "cell_type": "code",
   "execution_count": null,
   "metadata": {},
   "outputs": [],
   "source": [
    "print(gridCV.best_params_)"
   ]
  },
  {
   "cell_type": "markdown",
   "metadata": {},
   "source": [
    "# AdaBoost"
   ]
  },
  {
   "cell_type": "code",
   "execution_count": 27,
   "metadata": {},
   "outputs": [],
   "source": [
    "# import AdaBoost Model \n",
    "from sklearn.ensemble import AdaBoostClassifier \n",
    "\n",
    "abModel = AdaBoostClassifier(random_state=23)\n",
    "abModel.fit(bx_train,by_train)\n",
    "by_pred_abModel = abModel.predict(bx_val)"
   ]
  },
  {
   "cell_type": "code",
   "execution_count": 28,
   "metadata": {},
   "outputs": [
    {
     "name": "stdout",
     "output_type": "stream",
     "text": [
      "Results for Ada Boosting\n",
      "Accuracy: 0.8238680973567128\n",
      "Recall: 0.8446088794926004\n",
      "Precision: 0.808295397066262\n",
      "F1 Score: 0.8260532437322305\n",
      "\n",
      "Confusion Matrix:\n",
      "\n",
      "[[1598  294]\n",
      " [ 379 1550]]\n",
      "\n",
      "Classification Report:\n",
      "\n",
      "              precision    recall  f1-score   support\n",
      "\n",
      "           0       0.84      0.80      0.82      1929\n",
      "           1       0.81      0.84      0.83      1892\n",
      "\n",
      "    accuracy                           0.82      3821\n",
      "   macro avg       0.82      0.82      0.82      3821\n",
      "weighted avg       0.82      0.82      0.82      3821\n",
      "\n"
     ]
    }
   ],
   "source": [
    "\n",
    "get_model_results(\"Ada Boosting\", abModel, bx_train,by_train, bx_val, by_val)"
   ]
  },
  {
   "cell_type": "code",
   "execution_count": null,
   "metadata": {},
   "outputs": [],
   "source": [
    "from sklearn.model_selection import GridSearchCV \n",
    "grid_params = {\n",
    "    'n_estimators': [50,100,200,400],\n",
    "    'algorithm': ['SAMME','SAMME.R'],\n",
    "    'learning_rate': [0.01,0.05,0.1,0.2],\n",
    "}\n",
    "\n",
    "gridCV = GridSearchCV(abModel, param_grid=grid_params, verbose=False)\n",
    "gridCV.fit(bx_train,by_train)"
   ]
  },
  {
   "cell_type": "code",
   "execution_count": 5,
   "metadata": {},
   "outputs": [
    {
     "name": "stdout",
     "output_type": "stream",
     "text": [
      "{'n_estimators': 400, 'learning_rate': 0.2, 'algorithm': 'SAMME.R',}\n"
     ]
    }
   ],
   "source": [
    "\n",
    "print(gridCV.best_params_)\n"
   ]
  },
  {
   "cell_type": "code",
   "execution_count": 30,
   "metadata": {},
   "outputs": [],
   "source": [
    "good_AB = AdaBoostClassifier(n_estimators = 400, learning_rate = 0.2, algorithm = 'SAMME.R', random_state=23)"
   ]
  },
  {
   "cell_type": "code",
   "execution_count": 32,
   "metadata": {},
   "outputs": [
    {
     "name": "stdout",
     "output_type": "stream",
     "text": [
      "Results for Ada Boost(HyperTuned)\n",
      "Accuracy: 0.8249149437320074\n",
      "Recall: 0.8446088794926004\n",
      "Precision: 0.8099341104916371\n",
      "F1 Score: 0.8269081500646831\n",
      "\n",
      "Confusion Matrix:\n",
      "\n",
      "[[1598  294]\n",
      " [ 375 1554]]\n",
      "\n",
      "Classification Report:\n",
      "\n",
      "              precision    recall  f1-score   support\n",
      "\n",
      "           0       0.84      0.81      0.82      1929\n",
      "           1       0.81      0.84      0.83      1892\n",
      "\n",
      "    accuracy                           0.82      3821\n",
      "   macro avg       0.83      0.83      0.82      3821\n",
      "weighted avg       0.83      0.82      0.82      3821\n",
      "\n"
     ]
    }
   ],
   "source": [
    "get_model_results(\"Ada Boost(HyperTuned)\", good_AB, bx_train, by_train, bx_val, by_val)"
   ]
  },
  {
   "cell_type": "code",
   "execution_count": 33,
   "metadata": {},
   "outputs": [
    {
     "data": {
      "image/png": "[encoded data removed]",
      "text/plain": [
       "<Figure size 640x480 with 1 Axes>"
      ]
     },
     "metadata": {},
     "output_type": "display_data"
    }
   ],
   "source": [
    "#plot roc curve \n",
    "import matplotlib.pyplot as plt \n",
    "# predicted probabilities of class 1 \n",
    "by_pred_prob_goodAB = good_AB.predict_proba(bx_val)[:,1]\n",
    "fpr, tpr, _ = metrics.roc_curve(by_val, by_pred_prob_goodAB)\n",
    "auc = metrics.roc_auc_score(by_val, by_pred_prob_goodAB)\n",
    "plt.plot(fpr,tpr,label=\"AB_Model, auc =\"+str(\"{:.3f}\".format(auc)))\n",
    "plt.legend(loc=4)\n",
    "plt.show()\n"
   ]
  },
  {
   "cell_type": "markdown",
   "metadata": {},
   "source": [
    "# Gradient Boosting"
   ]
  },
  {
   "cell_type": "code",
   "execution_count": 40,
   "metadata": {},
   "outputs": [],
   "source": [
    "# import Gradient Boosting Model \n",
    "from sklearn.ensemble import GradientBoostingClassifier \n",
    "\n",
    "gbModel = GradientBoostingClassifier(random_state=23)\n",
    "gbModel.fit(bx_train,by_train)\n",
    "y_pred_gbModel = gbModel.predict(bx_val)\n"
   ]
  },
  {
   "cell_type": "code",
   "execution_count": 41,
   "metadata": {},
   "outputs": [
    {
     "name": "stdout",
     "output_type": "stream",
     "text": [
      "Results for Gradient Boosting\n",
      "Accuracy: 0.8249149437320074\n",
      "Recall: 0.8409090909090909\n",
      "Precision: 0.812149055640633\n",
      "F1 Score: 0.8262788886003636\n",
      "\n",
      "Confusion Matrix:\n",
      "\n",
      "[[1591  301]\n",
      " [ 368 1561]]\n",
      "\n",
      "Classification Report:\n",
      "\n",
      "              precision    recall  f1-score   support\n",
      "\n",
      "           0       0.84      0.81      0.82      1929\n",
      "           1       0.81      0.84      0.83      1892\n",
      "\n",
      "    accuracy                           0.82      3821\n",
      "   macro avg       0.83      0.83      0.82      3821\n",
      "weighted avg       0.83      0.82      0.82      3821\n",
      "\n"
     ]
    }
   ],
   "source": [
    "\n",
    "get_model_results(\"Gradient Boosting\", gbModel, bx_train,by_train, bx_val, by_val)"
   ]
  },
  {
   "cell_type": "code",
   "execution_count": 42,
   "metadata": {},
   "outputs": [
    {
     "name": "stdout",
     "output_type": "stream",
     "text": [
      "{'learning_rate': 0.1, 'max_depth': 3, 'max_leaf_nodes': 8, 'n_estimators': 200}\n"
     ]
    }
   ],
   "source": [
    "from sklearn.model_selection import GridSearchCV \n",
    "grid_params = {\n",
    "    'n_estimators': [50,100,200,400],\n",
    "    'max_depth': [3,4,5,6,7,8],\n",
    "    'learning_rate': [0.01,0.05,0.1,0.2],\n",
    "    'max_leaf_nodes': [2,4,6,8]\n",
    "}\n",
    "\n",
    "gridCV = GridSearchCV(GradientBoostingClassifier(), param_grid=grid_params, verbose=False)\n",
    "gridCV.fit(bx_train,by_train)\n",
    "print(gridCV.best_params_)"
   ]
  },
  {
   "cell_type": "code",
   "execution_count": 44,
   "metadata": {},
   "outputs": [],
   "source": [
    "good_GB = GradientBoostingClassifier(learning_rate = 0.1, max_depth= 3, max_leaf_nodes= 8, n_estimators=200)"
   ]
  },
  {
   "cell_type": "code",
   "execution_count": 45,
   "metadata": {},
   "outputs": [
    {
     "name": "stdout",
     "output_type": "stream",
     "text": [
      "Results for Gradient Boost(HyperTuned)\n",
      "Accuracy: 0.8332897147343628\n",
      "Recall: 0.8509513742071881\n",
      "Precision: 0.8193384223918575\n",
      "F1 Score: 0.8348457350272231\n",
      "\n",
      "Confusion Matrix:\n",
      "\n",
      "[[1610  282]\n",
      " [ 355 1574]]\n",
      "\n",
      "Classification Report:\n",
      "\n",
      "              precision    recall  f1-score   support\n",
      "\n",
      "           0       0.85      0.82      0.83      1929\n",
      "           1       0.82      0.85      0.83      1892\n",
      "\n",
      "    accuracy                           0.83      3821\n",
      "   macro avg       0.83      0.83      0.83      3821\n",
      "weighted avg       0.83      0.83      0.83      3821\n",
      "\n"
     ]
    }
   ],
   "source": [
    "get_model_results(\"Gradient Boost(HyperTuned)\", good_GB, bx_train, by_train, bx_val, by_val)"
   ]
  },
  {
   "cell_type": "code",
   "execution_count": 46,
   "metadata": {},
   "outputs": [
    {
     "data": {
      "image/png": "[encoded data removed]",
      "text/plain": [
       "<Figure size 640x480 with 1 Axes>"
      ]
     },
     "metadata": {},
     "output_type": "display_data"
    }
   ],
   "source": [
    "#plot roc curve \n",
    "import matplotlib.pyplot as plt \n",
    "# predicted probabilities of class 1 \n",
    "by_pred_prob_goodGB = good_GB.predict_proba(bx_val)[:,1]\n",
    "fpr, tpr, _ = metrics.roc_curve(by_val, by_pred_prob_goodGB)\n",
    "auc = metrics.roc_auc_score(by_val, by_pred_prob_goodGB)\n",
    "plt.plot(fpr,tpr,label=\"GB_Model, auc =\"+str(\"{:.3f}\".format(auc)))\n",
    "plt.legend(loc=4)\n",
    "plt.show()\n"
   ]
  }
 ],
 "metadata": {
  "kernelspec": {
   "display_name": "Python 3.11.0 ('ipykernel_py3')",
   "language": "python",
   "name": "python3"
  },
  "language_info": {
   "codemirror_mode": {
    "name": "ipython",
    "version": 3
   },
   "file_extension": ".py",
   "mimetype": "text/x-python",
   "name": "python",
   "nbconvert_exporter": "python",
   "pygments_lexer": "ipython3",
   "version": "3.11.0"
  },
  "vscode": {
   "interpreter": {
    "hash": "5da33aab8e17f7e7797876352a2eeaf83e42153ac23e4f262fdfe17ebd97b637"
   }
  }
 },
 "nbformat": 4,
 "nbformat_minor": 2
}
